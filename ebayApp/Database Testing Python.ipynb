{
 "cells": [
  {
   "cell_type": "code",
   "execution_count": 52,
   "metadata": {},
   "outputs": [],
   "source": [
    "import requests\n",
    "\n",
    "itemTable = 'http://localhost:3000/searchitems'\n",
    "\n",
    "def readTable(url):\n",
    "    x = requests.get(url)\n",
    "    return x.json()\n",
    "\n",
    "def addToTable(url, newItem):\n",
    "    x = requests.post(url, newItem)\n",
    "    \n",
    "def deleteTable(url):\n",
    "    requests.delete(url)\n",
    "    \n",
    "def deleteRow(url, item):\n",
    "    x = requests.delete(url + \"?item=eq.\" + item)"
   ]
  }
 ],
 "metadata": {
  "kernelspec": {
   "display_name": "Python 3",
   "language": "python",
   "name": "python3"
  },
  "language_info": {
   "codemirror_mode": {
    "name": "ipython",
    "version": 3
   },
   "file_extension": ".py",
   "mimetype": "text/x-python",
   "name": "python",
   "nbconvert_exporter": "python",
   "pygments_lexer": "ipython3",
   "version": "3.7.6"
  }
 },
 "nbformat": 4,
 "nbformat_minor": 4
}
